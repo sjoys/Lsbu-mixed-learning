{
 "cells": [
  {
   "cell_type": "code",
   "execution_count": 1,
   "id": "1e94eeba-dbf7-46de-be6f-098d4f7fde96",
   "metadata": {},
   "outputs": [
    {
     "name": "stdout",
     "output_type": "stream",
     "text": [
      "110 Hello\n"
     ]
    }
   ],
   "source": [
    "# Defining a variable in week 2 max learning in Python \n",
    "number = 110\n",
    "word = \"Hello\"\n",
    "print(number, word)\n"
   ]
  },
  {
   "cell_type": "code",
   "execution_count": 9,
   "id": "1972b330-bf43-4c91-96fb-84e506d21e97",
   "metadata": {},
   "outputs": [
    {
     "name": "stdout",
     "output_type": "stream",
     "text": [
      "Name: YourName?\n",
      "Year: 2019\n",
      "Pi: 3.14\n",
      "Boolean: True\n"
     ]
    }
   ],
   "source": [
    "# This is Variables in week 2 max learning in python \n",
    "myname = \"YourName?\"\n",
    "year = 2019\n",
    "pi = 3.14\n",
    "bool_ = True\n",
    "print(\"Name:\", myname)\n",
    "print(\"Year:\", year)\n",
    "print(\"Pi:\", pi)\n",
    "print(\"Boolean:\", bool_)"
   ]
  },
  {
   "cell_type": "code",
   "execution_count": 5,
   "id": "7b87eff3-92fb-40bd-a4e5-1c69bccef1f0",
   "metadata": {},
   "outputs": [
    {
     "name": "stdout",
     "output_type": "stream",
     "text": [
      "Result of custom calculation 1: 15277.5\n",
      "Result of custom calculation 2: -15.8781590720464\n"
     ]
    }
   ],
   "source": [
    "# This is Operator in week 2 max learning in python \n",
    "\n",
    "earth_radius_km = 6371       \n",
    "altitude_feet = 40000 \n",
    "km_to_miles = 0.621371\n",
    "feet_to_meters = 0.3048\n",
    "earth_radius_miles = earth_radius_km * km_to_miles\n",
    "\n",
    "# Convert altitude to meters\n",
    "altitude_meters = altitude_feet * feet_to_meters\n",
    "result1 = earth_radius_km / 2 + altitude_feet * feet_to_meters - 100\n",
    "result2 = (earth_radius_km / (2 + altitude_feet)) * (feet_to_meters - 100)\n",
    "print(\"Result of custom calculation 1:\", result1)\n",
    "print(\"Result of custom calculation 2:\", result2)\n",
    "\n"
   ]
  },
  {
   "cell_type": "code",
   "execution_count": 17,
   "id": "6f42dc71-1ce0-468e-a4fb-fe803ef7d1f9",
   "metadata": {},
   "outputs": [
    {
     "name": "stdout",
     "output_type": "stream",
     "text": [
      "Value of expression is not 100\n",
      "Good bye!\n"
     ]
    }
   ],
   "source": [
    "# This is the Decision Making in week 2 max learning in Python\n",
    "expression_result = 90\n",
    "\n",
    "if expression_result == 100:\n",
    "    print(\"Value of expression is 100\")\n",
    "else:\n",
    "    print(\"Value of expression is not 100\")\n",
    "print(\"Good bye!\")\n"
   ]
  },
  {
   "cell_type": "code",
   "execution_count": 18,
   "id": "68422571-048c-491d-9a83-a5dad501e7ce",
   "metadata": {},
   "outputs": [
    {
     "name": "stdout",
     "output_type": "stream",
     "text": [
      "Value of expression is less than 100\n",
      "Good bye!\n"
     ]
    }
   ],
   "source": [
    "# Define a variable with an initial value\n",
    "expression_result = 90\n",
    "\n",
    "# check the value with if-elif-else\n",
    "if expression_result == 100:\n",
    "    print(\"Value of expression is 100\")\n",
    "elif expression_result > 100:\n",
    "    print(\"Value of expression is greater than 100\")\n",
    "else:\n",
    "    print(\"Value of expression is less than 100\")\n",
    "\n",
    "print(\"Good bye!\")\n"
   ]
  },
  {
   "cell_type": "code",
   "execution_count": null,
   "id": "53062bdd-ec70-411b-8447-acbfef85ab53",
   "metadata": {},
   "outputs": [],
   "source": []
  }
 ],
 "metadata": {
  "kernelspec": {
   "display_name": "Python 3 (ipykernel)",
   "language": "python",
   "name": "python3"
  },
  "language_info": {
   "codemirror_mode": {
    "name": "ipython",
    "version": 3
   },
   "file_extension": ".py",
   "mimetype": "text/x-python",
   "name": "python",
   "nbconvert_exporter": "python",
   "pygments_lexer": "ipython3",
   "version": "3.12.7"
  }
 },
 "nbformat": 4,
 "nbformat_minor": 5
}
